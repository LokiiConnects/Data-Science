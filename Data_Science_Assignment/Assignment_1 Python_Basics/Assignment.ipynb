{
 "cells": [
  {
   "cell_type": "markdown",
   "metadata": {},
   "source": [
    "Question -1 "
   ]
  },
  {
   "cell_type": "code",
   "execution_count": 8,
   "metadata": {},
   "outputs": [],
   "source": [
    "a='Loki'\n",
    "b=[1,2,3,'pw',23.45]\n",
    "c=56.54\n",
    "d=(1,2,3,4)"
   ]
  },
  {
   "cell_type": "code",
   "execution_count": 7,
   "metadata": {},
   "outputs": [
    {
     "data": {
      "text/plain": [
       "str"
      ]
     },
     "execution_count": 7,
     "metadata": {},
     "output_type": "execute_result"
    }
   ],
   "source": [
    "type(a)"
   ]
  },
  {
   "cell_type": "code",
   "execution_count": 6,
   "metadata": {},
   "outputs": [
    {
     "data": {
      "text/plain": [
       "float"
      ]
     },
     "execution_count": 6,
     "metadata": {},
     "output_type": "execute_result"
    }
   ],
   "source": [
    "type(c)"
   ]
  },
  {
   "cell_type": "code",
   "execution_count": 5,
   "metadata": {},
   "outputs": [
    {
     "data": {
      "text/plain": [
       "float"
      ]
     },
     "execution_count": 5,
     "metadata": {},
     "output_type": "execute_result"
    }
   ],
   "source": [
    "type(c)"
   ]
  },
  {
   "cell_type": "code",
   "execution_count": 4,
   "metadata": {},
   "outputs": [
    {
     "data": {
      "text/plain": [
       "list"
      ]
     },
     "execution_count": 4,
     "metadata": {},
     "output_type": "execute_result"
    }
   ],
   "source": [
    "type(b)"
   ]
  },
  {
   "cell_type": "markdown",
   "metadata": {},
   "source": [
    "Question -2\n"
   ]
  },
  {
   "cell_type": "code",
   "execution_count": 2,
   "metadata": {},
   "outputs": [
    {
     "name": "stdout",
     "output_type": "stream",
     "text": [
      "<class 'str'>\n",
      "<class 'str'>\n",
      "<class 'list'>\n",
      "<class 'int'>\n"
     ]
    }
   ],
   "source": [
    "var1 = ''\n",
    "var2 = '[DS,ML,PYTHON]'\n",
    "var3 = ['DS','ML','PYTHON']\n",
    "var4 = 1\n",
    "print(type(var1))\n",
    "print(type(var2))\n",
    "print(type(var3))\n",
    "print(type(var4))"
   ]
  },
  {
   "cell_type": "markdown",
   "metadata": {},
   "source": [
    "Question -3"
   ]
  },
  {
   "cell_type": "markdown",
   "metadata": {},
   "source": [
    "/  -  Division operator (It gives Quotient)\n",
    "\n",
    "%  -  Modulus Operator (It gives the Remainder)\n",
    "\n",
    "// - quotient of floor\n",
    "\n",
    "** - power operator (left operand will be base and right operand is the exponent)"
   ]
  },
  {
   "cell_type": "code",
   "execution_count": 8,
   "metadata": {},
   "outputs": [
    {
     "name": "stdout",
     "output_type": "stream",
     "text": [
      "3.3333333333333335\n",
      "1\n",
      "3\n",
      "8\n"
     ]
    }
   ],
   "source": [
    "z = 10/3\n",
    "print(z)\n",
    "x = 10%3\n",
    "print(x)\n",
    "f = 10//3\n",
    "print(f)\n",
    "h = 2**3\n",
    "print(h)"
   ]
  },
  {
   "cell_type": "markdown",
   "metadata": {},
   "source": [
    "Question -4"
   ]
  },
  {
   "cell_type": "code",
   "execution_count": 9,
   "metadata": {},
   "outputs": [
    {
     "name": "stdout",
     "output_type": "stream",
     "text": [
      "1\n",
      "2\n",
      "3\n",
      "4\n",
      "5\n",
      "loki\n",
      "kij\n",
      "123.45\n",
      "@\n",
      "4\n"
     ]
    }
   ],
   "source": [
    "l = [1,2,3,4,5,'loki','kij',123.45,'@',4]\n",
    "for i in l:\n",
    "    print(i)"
   ]
  },
  {
   "cell_type": "markdown",
   "metadata": {},
   "source": [
    "Question -5"
   ]
  },
  {
   "cell_type": "code",
   "execution_count": 8,
   "metadata": {},
   "outputs": [
    {
     "name": "stdout",
     "output_type": "stream",
     "text": [
      "4\n"
     ]
    }
   ],
   "source": [
    "n = int(input())\n",
    "i=1\n",
    "count=0\n",
    "while i<=n:\n",
    "    if n%i==0 :\n",
    "        count+=1\n",
    "    i+=1\n",
    "print(count)"
   ]
  },
  {
   "cell_type": "markdown",
   "metadata": {},
   "source": [
    "Question -6"
   ]
  },
  {
   "cell_type": "code",
   "execution_count": 2,
   "metadata": {},
   "outputs": [
    {
     "name": "stdout",
     "output_type": "stream",
     "text": [
      "1: not divisible by 3\n",
      "2: not divisible by 3\n",
      "3- divisible by 3\n",
      "4: not divisible by 3\n",
      "5: not divisible by 3\n",
      "6- divisible by 3\n",
      "7: not divisible by 3\n",
      "8: not divisible by 3\n",
      "9- divisible by 3\n",
      "2: not divisible by 3\n",
      "11: not divisible by 3\n",
      "12- divisible by 3\n",
      "13: not divisible by 3\n",
      "14: not divisible by 3\n",
      "15- divisible by 3\n",
      "16: not divisible by 3\n",
      "1: not divisible by 3\n",
      "18- divisible by 3\n",
      "19: not divisible by 3\n",
      "177- divisible by 3\n",
      "20: not divisible by 3\n",
      "23: not divisible by 3\n",
      "21- divisible by 3\n",
      "22: not divisible by 3\n",
      "23: not divisible by 3\n"
     ]
    }
   ],
   "source": [
    "l=[]\n",
    "for i in range(1,26,1):\n",
    "    l.append(int(input()))\n",
    "for i in l:\n",
    "    if i%3 == 0 :\n",
    "        print(f\"{i}- divisible by 3\")\n",
    "    else:\n",
    "        print(f\"{i}: not divisible by 3\")\n",
    "        \n"
   ]
  },
  {
   "cell_type": "markdown",
   "metadata": {},
   "source": [
    "Question -7"
   ]
  },
  {
   "cell_type": "code",
   "execution_count": 3,
   "metadata": {},
   "outputs": [
    {
     "data": {
      "text/plain": [
       "[0, 2, 3, 4]"
      ]
     },
     "execution_count": 3,
     "metadata": {},
     "output_type": "execute_result"
    }
   ],
   "source": [
    "#Mutability - can we change the object like list\n",
    "#immutability - we cannot change the object like strings\n",
    "l = [1,2,3,4]\n",
    "l[0]=0\n",
    "l \n",
    "#Wheras in strings once created cannot be changed"
   ]
  }
 ],
 "metadata": {
  "kernelspec": {
   "display_name": "Python 3",
   "language": "python",
   "name": "python3"
  },
  "language_info": {
   "codemirror_mode": {
    "name": "ipython",
    "version": 3
   },
   "file_extension": ".py",
   "mimetype": "text/x-python",
   "name": "python",
   "nbconvert_exporter": "python",
   "pygments_lexer": "ipython3",
   "version": "3.12.2"
  }
 },
 "nbformat": 4,
 "nbformat_minor": 2
}
